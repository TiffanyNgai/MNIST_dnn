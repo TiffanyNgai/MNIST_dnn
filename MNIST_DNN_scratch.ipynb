{
  "nbformat": 4,
  "nbformat_minor": 0,
  "metadata": {
    "colab": {
      "name": "MNIST_DNN_scratch.ipynb",
      "provenance": [],
      "collapsed_sections": [],
      "authorship_tag": "ABX9TyPZ9ima/YX83XahykdHlaIE",
      "include_colab_link": true
    },
    "kernelspec": {
      "name": "python3",
      "display_name": "Python 3"
    },
    "language_info": {
      "name": "python"
    },
    "gpuClass": "standard"
  },
  "cells": [
    {
      "cell_type": "markdown",
      "metadata": {
        "id": "view-in-github",
        "colab_type": "text"
      },
      "source": [
        "<a href=\"https://colab.research.google.com/github/TiffanyNgai/MNIST_dnn/blob/main/MNIST_DNN_scratch.ipynb\" target=\"_parent\"><img src=\"https://colab.research.google.com/assets/colab-badge.svg\" alt=\"Open In Colab\"/></a>"
      ]
    },
    {
      "cell_type": "markdown",
      "source": [
        "# Setup"
      ],
      "metadata": {
        "id": "cML8BCahkMMO"
      }
    },
    {
      "cell_type": "code",
      "execution_count": null,
      "metadata": {
        "id": "Hx076RUej2jO"
      },
      "outputs": [],
      "source": [
        "import numpy as np\n",
        "import tensorflow as tf\n",
        "import math\n",
        "from tensorflow import keras\n",
        "from keras.datasets import mnist\n",
        "from matplotlib import pyplot"
      ]
    },
    {
      "cell_type": "markdown",
      "source": [
        "## Load data"
      ],
      "metadata": {
        "id": "dpnOp5otkahd"
      }
    },
    {
      "cell_type": "code",
      "source": [
        "(train_X, train_Y), (dev_X, dev_Y) = mnist.load_data()"
      ],
      "metadata": {
        "id": "3wovM8HNkZfv"
      },
      "execution_count": null,
      "outputs": []
    },
    {
      "cell_type": "code",
      "source": [
        "print(f\"train_X: {train_X.shape}\")\n",
        "print(f\"train_Y: {train_Y.shape}\")\n",
        "print(f\"dev_X: {dev_X.shape}\")\n",
        "print(f\"dev_Y: {dev_Y.shape}\")"
      ],
      "metadata": {
        "colab": {
          "base_uri": "https://localhost:8080/"
        },
        "id": "daZ-oY7SkpEX",
        "outputId": "ad477414-b6f4-4963-ac24-39e2fbc2dff7"
      },
      "execution_count": null,
      "outputs": [
        {
          "output_type": "stream",
          "name": "stdout",
          "text": [
            "train_X: (60000, 28, 28)\n",
            "train_Y: (60000,)\n",
            "dev_X: (10000, 28, 28)\n",
            "dev_Y: (10000,)\n"
          ]
        }
      ]
    },
    {
      "cell_type": "code",
      "source": [
        "for i in range(9):\n",
        "  pyplot.subplot(330 + 1 + i)\n",
        "  pyplot.imshow(train_X[i], cmap=pyplot.get_cmap('gray'))\n",
        "pyplot.show()"
      ],
      "metadata": {
        "colab": {
          "base_uri": "https://localhost:8080/",
          "height": 268
        },
        "id": "tlUcoJSInA5s",
        "outputId": "a8fc1e84-9eb0-4863-baf9-2c465e69af76"
      },
      "execution_count": null,
      "outputs": [
        {
          "output_type": "display_data",
          "data": {
            "text/plain": [
              "<Figure size 432x288 with 9 Axes>"
            ],
            "image/png": "[encoded data removed]"
          },
          "metadata": {
            "needs_background": "light"
          }
        }
      ]
    },
    {
      "cell_type": "markdown",
      "source": [
        "## Data preprocessing"
      ],
      "metadata": {
        "id": "umJmDZHHlg08"
      }
    },
    {
      "cell_type": "code",
      "source": [
        "num_train = train_X.shape[0]\n",
        "num_dev = dev_X.shape[0]\n",
        "img_dim = train_X.shape[1]\n",
        "\n",
        "norm_flat_train_X = train_X.reshape(num_train, img_dim * img_dim).astype('float32') / 255.0\n",
        "norm_flat_dev_X = dev_X.reshape(num_dev, img_dim * img_dim).astype('float32') / 255.0\n",
        "\n",
        "one_hot_train_Y = np.zeros((num_train, 10))\n",
        "for i in range(num_train):\n",
        "  one_hot_train_Y[i, train_Y[i]] = 1.0\n",
        "\n",
        "one_hot_dev_Y = np.zeros((num_dev, 10))\n",
        "for i in range(num_dev):\n",
        "  one_hot_dev_Y[i, dev_Y[i]] = 1.0\n",
        "\n",
        "print(f\"norm_flat_train_X: {norm_flat_train_X.shape}\")\n",
        "print(f\"one_hot_train_Y: {one_hot_train_Y.shape}\")\n",
        "print(f\"norm_flat_dev_X: {norm_flat_dev_X.shape}\")\n",
        "print(f\"one_hot_dev_Y: {one_hot_dev_Y.shape}\")"
      ],
      "metadata": {
        "colab": {
          "base_uri": "https://localhost:8080/"
        },
        "id": "mJa66NyplcG9",
        "outputId": "c6491895-90cb-434e-bdfb-e72ecedb1911"
      },
      "execution_count": null,
      "outputs": [
        {
          "output_type": "stream",
          "name": "stdout",
          "text": [
            "norm_flat_train_X: (60000, 784)\n",
            "one_hot_train_Y: (60000, 10)\n",
            "norm_flat_dev_X: (10000, 784)\n",
            "one_hot_dev_Y: (10000, 10)\n"
          ]
        }
      ]
    },
    {
      "cell_type": "markdown",
      "source": [
        "## Build model\n",
        "Model architecture:\n",
        "- input layer: 28 * 28 = 784 nodes\n",
        "- hidden layer 1: 256 nodes\n",
        "- hidden layer 2: 128 nodes\n",
        "- output layer: 10 nodes\n",
        "\n",
        "Process:\n",
        "- Feedforward -> ReLU -> Feedforward -> ReLU -> Feedforward -> sigmoid"
      ],
      "metadata": {
        "id": "NAl9Mqlw4gQ4"
      }
    },
    {
      "cell_type": "code",
      "source": [
        "layer_dims = [784, 256, 128, 10]\n",
        "learning_rate = 0.01"
      ],
      "metadata": {
        "id": "mdjT2vKkBUSE"
      },
      "execution_count": null,
      "outputs": []
    },
    {
      "cell_type": "markdown",
      "source": [
        "## Train model"
      ],
      "metadata": {
        "id": "Wc_Y7p8MBiNc"
      }
    },
    {
      "cell_type": "code",
      "source": [
        "grads = {}\n",
        "costs = []\n",
        "accuracies = []\n",
        "iter_num = 500\n",
        "mod = 10\n",
        "\n",
        "#Initialize parameters\n",
        "parameters = {}\n",
        "L = len(layer_dims)\n",
        "\n",
        "for l in range(1, L):\n",
        "  parameters['W' + str(l)] = np.random.randn(layer_dims[l], layer_dims[l-1]) - 0.05\n",
        "  parameters['b' + str(l)] = np.random.randn(layer_dims[l], 1) - 0.05\n",
        "\n",
        "for i in range(0, iter_num):\n",
        "  #Feedforward\n",
        "  Z1 = np.dot(parameters['W1'], norm_flat_train_X.T) + parameters['b1']\n",
        "  A1 = np.maximum(Z1, 0) #ReLU\n",
        "  Z2 = np.dot(parameters['W2'], A1) + parameters['b2']\n",
        "  A2 = np.maximum(Z2, 0) #ReLU\n",
        "  Z3 = np.dot(parameters['W3'], A2) + parameters['b3']\n",
        "  A3 = 1 / (1 + np.exp(-Z3)) #Sigmoid\n",
        "\n",
        "  #Calculate derivatives\n",
        "  dZ3 = A3 - one_hot_train_Y.T\n",
        "  grads['dW3'] = 1/num_train * np.dot(dZ3, A2.T)\n",
        "  grads['db3'] = 1/num_train * np.sum(dZ3, axis=1, keepdims=True)\n",
        "  dZ2 = np.multiply(np.dot(parameters['W3'].T, dZ3), Z2 > 0)\n",
        "  grads['dW2'] = 1/num_train * np.dot(dZ2, A1.T)\n",
        "  grads['db2'] = 1/num_train * np.sum(dZ2, axis=1, keepdims=True)\n",
        "  dZ1 = np.multiply(np.dot(parameters['W2'].T, dZ2), Z1 > 0)\n",
        "  grads['dW1'] = 1/num_train * np.dot(dZ1, norm_flat_train_X)\n",
        "  grads['db1'] = 1/num_train * np.sum(dZ1, axis=1, keepdims=True)\n",
        "\n",
        "  #Backprop\n",
        "  for l in range(1, L):\n",
        "    parameters['W' + str(l)] = parameters['W' + str(l)] - learning_rate * grads['dW' + str(l)]\n",
        "    parameters['b' + str(l)] = parameters['b' + str(l)] - learning_rate * grads['db' + str(l)]\n",
        "  \n",
        "  if i % mod == 0:\n",
        "    #Train set feedforward\n",
        "    Z1 = np.dot(parameters['W1'], norm_flat_train_X.T) + parameters['b1']\n",
        "    A1 = np.maximum(Z1, 0) #ReLU\n",
        "    Z2 = np.dot(parameters['W2'], A1) + parameters['b2']\n",
        "    A2 = np.maximum(Z2, 0) #ReLU\n",
        "    Z3 = np.dot(parameters['W3'], A2) + parameters['b3']\n",
        "    A3 = 1 / (1 + np.exp(-Z3)) #Sigmoid\n",
        "\n",
        "    # #Calculate cost\n",
        "    # log_prob = np.multiply(one_hot_train_Y.T, np.log(A3)) + np.multiply((1-one_hot_train_Y.T), np.log(1-A3))\n",
        "    # cost = -1/num_train * np.sum(log_prob)\n",
        "    # cost = np.squeeze(cost)\n",
        "    # costs.append(cost)\n",
        "    # print(f\"{i}th iteration, cost: {cost}\")\n",
        "\n",
        "    #Calculate dev set accuracy\n",
        "    predicted_train_Y = np.argmax(A3, axis=0)\n",
        "    accuracy = np.sum(predicted_train_Y == train_Y) / num_train\n",
        "    accuracies.append(accuracy)\n",
        "    print(f\"{i}th iteration, train accuracy: {accuracy}\")\n"
      ],
      "metadata": {
        "colab": {
          "base_uri": "https://localhost:8080/"
        },
        "id": "vWqnfWX-b90O",
        "outputId": "caa92014-c791-4e8b-cf8f-6704c8745e77"
      },
      "execution_count": null,
      "outputs": [
        {
          "metadata": {
            "tags": null
          },
          "name": "stderr",
          "output_type": "stream",
          "text": [
            "/usr/local/lib/python3.7/dist-packages/ipykernel_launcher.py:22: RuntimeWarning: overflow encountered in exp\n",
            "/usr/local/lib/python3.7/dist-packages/ipykernel_launcher.py:47: RuntimeWarning: overflow encountered in exp\n"
          ]
        },
        {
          "output_type": "stream",
          "name": "stdout",
          "text": [
            "0th iteration, train accuracy: 0.11951666666666666\n",
            "10th iteration, train accuracy: 0.36625\n",
            "20th iteration, train accuracy: 0.5036666666666667\n",
            "30th iteration, train accuracy: 0.5709166666666666\n",
            "40th iteration, train accuracy: 0.6138833333333333\n",
            "50th iteration, train accuracy: 0.6443166666666666\n",
            "60th iteration, train accuracy: 0.6667166666666666\n",
            "70th iteration, train accuracy: 0.6840833333333334\n",
            "80th iteration, train accuracy: 0.6993166666666667\n",
            "90th iteration, train accuracy: 0.7104166666666667\n",
            "100th iteration, train accuracy: 0.7208166666666667\n",
            "110th iteration, train accuracy: 0.7288\n",
            "120th iteration, train accuracy: 0.7370166666666667\n",
            "130th iteration, train accuracy: 0.74335\n",
            "140th iteration, train accuracy: 0.7503666666666666\n",
            "150th iteration, train accuracy: 0.75495\n",
            "160th iteration, train accuracy: 0.7595666666666666\n",
            "170th iteration, train accuracy: 0.7643666666666666\n",
            "180th iteration, train accuracy: 0.7682166666666667\n",
            "190th iteration, train accuracy: 0.7713166666666667\n",
            "200th iteration, train accuracy: 0.7743166666666667\n",
            "210th iteration, train accuracy: 0.7771333333333333\n",
            "220th iteration, train accuracy: 0.7793833333333333\n",
            "230th iteration, train accuracy: 0.7821333333333333\n",
            "240th iteration, train accuracy: 0.7849333333333334\n",
            "250th iteration, train accuracy: 0.7870333333333334\n",
            "260th iteration, train accuracy: 0.78875\n",
            "270th iteration, train accuracy: 0.7903333333333333\n",
            "280th iteration, train accuracy: 0.7924\n",
            "290th iteration, train accuracy: 0.79385\n",
            "300th iteration, train accuracy: 0.7952666666666667\n",
            "310th iteration, train accuracy: 0.7961666666666667\n",
            "320th iteration, train accuracy: 0.7969833333333334\n",
            "330th iteration, train accuracy: 0.7981666666666667\n",
            "340th iteration, train accuracy: 0.7995\n",
            "350th iteration, train accuracy: 0.8007166666666666\n",
            "360th iteration, train accuracy: 0.80145\n",
            "370th iteration, train accuracy: 0.80265\n",
            "380th iteration, train accuracy: 0.8032833333333333\n",
            "390th iteration, train accuracy: 0.8041166666666667\n",
            "400th iteration, train accuracy: 0.8047\n",
            "410th iteration, train accuracy: 0.8057333333333333\n",
            "420th iteration, train accuracy: 0.8058166666666666\n",
            "430th iteration, train accuracy: 0.8063666666666667\n",
            "440th iteration, train accuracy: 0.8065333333333333\n",
            "450th iteration, train accuracy: 0.807\n",
            "460th iteration, train accuracy: 0.8076166666666666\n",
            "470th iteration, train accuracy: 0.8076833333333333\n",
            "480th iteration, train accuracy: 0.808\n",
            "490th iteration, train accuracy: 0.80815\n"
          ]
        }
      ]
    },
    {
      "cell_type": "code",
      "source": [
        "x_val = range(int(iter_num / mod))\n",
        "# pyplot.subplot(1, 2, 1)\n",
        "# pyplot.plot(x_val, costs)\n",
        "# pyplot.title(\"Cost\")\n",
        "# pyplot.subplot(1, 2, 2)\n",
        "pyplot.plot(x_val, accuracies)\n",
        "pyplot.title(\"Accuracy\")\n",
        "pyplot.tight_layout()\n",
        "pyplot.show()"
      ],
      "metadata": {
        "colab": {
          "base_uri": "https://localhost:8080/",
          "height": 297
        },
        "id": "W4nRIEzwNC4l",
        "outputId": "76b383c3-163d-40e8-b298-5e781aa7a6ba"
      },
      "execution_count": null,
      "outputs": [
        {
          "output_type": "display_data",
          "data": {
            "text/plain": [
              "<Figure size 432x288 with 1 Axes>"
            ],
            "image/png": "[encoded data removed]"
          },
          "metadata": {
            "needs_background": "light"
          }
        }
      ]
    },
    {
      "cell_type": "markdown",
      "source": [
        "## Evaluate model"
      ],
      "metadata": {
        "id": "MLyo9IrX_tM4"
      }
    },
    {
      "cell_type": "code",
      "source": [
        "#Train set feedforward\n",
        "Z1 = np.dot(parameters['W1'], norm_flat_train_X.T) + parameters['b1']\n",
        "A1 = np.maximum(Z1, 0) #ReLU\n",
        "Z2 = np.dot(parameters['W2'], A1) + parameters['b2']\n",
        "A2 = np.maximum(Z2, 0) #ReLU\n",
        "Z3 = np.dot(parameters['W3'], A2) + parameters['b3']\n",
        "A3 = 1 / (1 + np.exp(-Z3))\n",
        "predicted_train_Y = np.argmax(A3, axis=0)\n",
        "accuracy = np.sum(predicted_train_Y == train_Y) / num_train\n",
        "print(f\"Train accuracy: {accuracy}\")\n",
        "print(f\"train_Y: {train_Y}\")\n",
        "print(f\"predicted_train_Y: {predicted_train_Y}\")\n",
        "\n",
        "#Dev set feedforward\n",
        "Z1 = np.dot(parameters['W1'], norm_flat_dev_X.T) + parameters['b1']\n",
        "A1 = np.maximum(Z1, 0) #ReLU\n",
        "Z2 = np.dot(parameters['W2'], A1) + parameters['b2']\n",
        "A2 = np.maximum(Z2, 0) #ReLU\n",
        "Z3 = np.dot(parameters['W3'], A2) + parameters['b3']\n",
        "A3 = 1 / (1 + np.exp(-Z3))\n",
        "predicted_dev_Y = np.argmax(A3, axis=0)\n",
        "accuracy = np.sum(predicted_dev_Y == dev_Y) / num_dev\n",
        "print(f\"Dev accuracy: {accuracy}\")\n",
        "print(f\"dev_Y: {dev_Y}\")\n",
        "print(f\"predicted_dev_Y: {predicted_dev_Y}\")"
      ],
      "metadata": {
        "colab": {
          "base_uri": "https://localhost:8080/"
        },
        "id": "jK4pVuPcBqyQ",
        "outputId": "ecddc7a3-b7d0-402b-80cc-10e67d89e45c"
      },
      "execution_count": null,
      "outputs": [
        {
          "output_type": "stream",
          "name": "stderr",
          "text": [
            "/usr/local/lib/python3.7/dist-packages/ipykernel_launcher.py:7: RuntimeWarning: overflow encountered in exp\n",
            "  import sys\n"
          ]
        },
        {
          "output_type": "stream",
          "name": "stdout",
          "text": [
            "Train accuracy: 0.8084\n",
            "train_Y: [5 0 4 ... 5 6 8]\n",
            "predicted_train_Y: [5 0 4 ... 5 6 8]\n",
            "Dev accuracy: 0.8117\n",
            "dev_Y: [7 2 1 ... 4 5 6]\n",
            "predicted_dev_Y: [7 2 1 ... 4 5 6]\n"
          ]
        },
        {
          "output_type": "stream",
          "name": "stderr",
          "text": [
            "/usr/local/lib/python3.7/dist-packages/ipykernel_launcher.py:20: RuntimeWarning: overflow encountered in exp\n"
          ]
        }
      ]
    },
    {
      "cell_type": "markdown",
      "source": [
        "## Minibatch"
      ],
      "metadata": {
        "id": "FgZGms45BRio"
      }
    },
    {
      "cell_type": "code",
      "source": [
        "#Make minibatches\n",
        "batch_size = 256\n",
        "complete_minibatch = math.floor(num_train / batch_size)\n",
        "extra = 0\n",
        "if num_train % batch_size != 0:\n",
        "  extra = 1\n",
        "\n",
        "mini_batch_X = np.empty([complete_minibatch+1, img_dim*img_dim, batch_size])\n",
        "mini_batch_Y = np.empty([complete_minibatch+1, 10, batch_size])\n",
        "\n",
        "for i in range(0, complete_minibatch):\n",
        "  mini_batch_X[i] = norm_flat_train_X.T[:, (i*batch_size):((i+1)*batch_size)]\n",
        "  mini_batch_Y[i] = one_hot_train_Y.T[:, (i*batch_size):((i+1)*batch_size)]\n",
        "\n",
        "remaining = 0\n",
        "if extra:\n",
        "  for r in range((complete_minibatch*batch_size), num_train):\n",
        "    mini_batch_X[complete_minibatch, :, remaining] = norm_flat_train_X.T[:, r]\n",
        "    mini_batch_Y[complete_minibatch, :, remaining] = one_hot_train_Y.T[:, r]\n",
        "    remaining += 1\n",
        "\n",
        "\n",
        "print(f\"Mini batch X: {mini_batch_X.shape}\")\n",
        "print(f\"Mini batch Y: {mini_batch_Y.shape}\")"
      ],
      "metadata": {
        "colab": {
          "base_uri": "https://localhost:8080/"
        },
        "id": "bJb_YvGZJTP-",
        "outputId": "7c344dba-09dc-4d8c-8068-e50f20c97202"
      },
      "execution_count": 41,
      "outputs": [
        {
          "output_type": "stream",
          "name": "stdout",
          "text": [
            "Mini batch X: (235, 784, 256)\n",
            "Mini batch Y: (235, 10, 256)\n"
          ]
        }
      ]
    },
    {
      "cell_type": "code",
      "source": [
        "# Minibatch gradient descent\n",
        "grads = {}\n",
        "costs = []\n",
        "accuracies = []\n",
        "iter_num = 500\n",
        "mod = 10\n",
        "\n",
        "#Initialize parameters\n",
        "parameters = {}\n",
        "L = len(layer_dims)\n",
        "\n",
        "for l in range(1, L):\n",
        "  parameters['W' + str(l)] = np.random.randn(layer_dims[l], layer_dims[l-1]) - 0.05\n",
        "  parameters['b' + str(l)] = np.random.randn(layer_dims[l], 1) - 0.05\n",
        "\n",
        "for i in range(0, iter_num):\n",
        "  for batch in range(complete_minibatch):\n",
        "    #Feedforward\n",
        "    Z1 = np.dot(parameters['W1'], mini_batch_X[batch]) + parameters['b1']\n",
        "    A1 = np.maximum(Z1, 0) #ReLU\n",
        "    Z2 = np.dot(parameters['W2'], A1) + parameters['b2']\n",
        "    A2 = np.maximum(Z2, 0) #ReLU\n",
        "    Z3 = np.dot(parameters['W3'], A2) + parameters['b3']\n",
        "    A3 = 1 / (1 + np.exp(-Z3)) #Sigmoid\n",
        "\n",
        "    #Calculate derivatives\n",
        "    dZ3 = A3 - mini_batch_Y[batch]\n",
        "    grads['dW3'] = 1/num_train * np.dot(dZ3, A2.T)\n",
        "    grads['db3'] = 1/num_train * np.sum(dZ3, axis=1, keepdims=True)\n",
        "    dZ2 = np.multiply(np.dot(parameters['W3'].T, dZ3), Z2 > 0)\n",
        "    grads['dW2'] = 1/num_train * np.dot(dZ2, A1.T)\n",
        "    grads['db2'] = 1/num_train * np.sum(dZ2, axis=1, keepdims=True)\n",
        "    dZ1 = np.multiply(np.dot(parameters['W2'].T, dZ2), Z1 > 0)\n",
        "    grads['dW1'] = 1/num_train * np.dot(dZ1, mini_batch_X[batch].T)\n",
        "    grads['db1'] = 1/num_train * np.sum(dZ1, axis=1, keepdims=True)\n",
        "\n",
        "    #Backprop\n",
        "    for l in range(1, L):\n",
        "      parameters['W' + str(l)] = parameters['W' + str(l)] - learning_rate * grads['dW' + str(l)]\n",
        "      parameters['b' + str(l)] = parameters['b' + str(l)] - learning_rate * grads['db' + str(l)]\n",
        "  \n",
        "  #Last batch\n",
        "  if extra: \n",
        "    #Feedforward\n",
        "    Z1 = np.dot(parameters['W1'], mini_batch_X[complete_minibatch, :, 0:remaining]) + parameters['b1']\n",
        "    A1 = np.maximum(Z1, 0) #ReLU\n",
        "    Z2 = np.dot(parameters['W2'], A1) + parameters['b2']\n",
        "    A2 = np.maximum(Z2, 0) #ReLU\n",
        "    Z3 = np.dot(parameters['W3'], A2) + parameters['b3']\n",
        "    A3 = 1 / (1 + np.exp(-Z3)) #Sigmoid\n",
        "\n",
        "    #Calculate derivatives\n",
        "    dZ3 = A3 - mini_batch_Y[complete_minibatch, :, 0:remaining]\n",
        "    grads['dW3'] = 1/num_train * np.dot(dZ3, A2.T)\n",
        "    grads['db3'] = 1/num_train * np.sum(dZ3, axis=1, keepdims=True)\n",
        "    dZ2 = np.multiply(np.dot(parameters['W3'].T, dZ3), Z2 > 0)\n",
        "    grads['dW2'] = 1/num_train * np.dot(dZ2, A1.T)\n",
        "    grads['db2'] = 1/num_train * np.sum(dZ2, axis=1, keepdims=True)\n",
        "    dZ1 = np.multiply(np.dot(parameters['W2'].T, dZ2), Z1 > 0)\n",
        "    grads['dW1'] = 1/num_train * np.dot(dZ1, mini_batch_X[complete_minibatch, :, 0:remaining].T)\n",
        "    grads['db1'] = 1/num_train * np.sum(dZ1, axis=1, keepdims=True)\n",
        "\n",
        "    #Backprop\n",
        "    for l in range(1, L):\n",
        "      parameters['W' + str(l)] = parameters['W' + str(l)] - learning_rate * grads['dW' + str(l)]\n",
        "      parameters['b' + str(l)] = parameters['b' + str(l)] - learning_rate * grads['db' + str(l)]\n",
        "\n",
        "\n",
        "  if i % mod == 0:\n",
        "    #Train set feedforward\n",
        "    Z1 = np.dot(parameters['W1'], norm_flat_train_X.T) + parameters['b1']\n",
        "    A1 = np.maximum(Z1, 0) #ReLU\n",
        "    Z2 = np.dot(parameters['W2'], A1) + parameters['b2']\n",
        "    A2 = np.maximum(Z2, 0) #ReLU\n",
        "    Z3 = np.dot(parameters['W3'], A2) + parameters['b3']\n",
        "    A3 = 1 / (1 + np.exp(-Z3)) #Sigmoid\n",
        "\n",
        "    # #Calculate cost\n",
        "    # log_prob = np.multiply(one_hot_train_Y.T, np.log(A3)) + np.multiply((1-one_hot_train_Y.T), np.log(1-A3))\n",
        "    # cost = -1/num_train * np.sum(log_prob)\n",
        "    # cost = np.squeeze(cost)\n",
        "    # costs.append(cost)\n",
        "    # print(f\"{i}th iteration, cost: {cost}\")\n",
        "\n",
        "    #Calculate dev set accuracy\n",
        "    predicted_train_Y = np.argmax(A3, axis=0)\n",
        "    accuracy = np.sum(predicted_train_Y == train_Y) / num_train\n",
        "    accuracies.append(accuracy)\n",
        "    print(f\"{i}th iteration, train accuracy: {accuracy}\")\n"
      ],
      "metadata": {
        "id": "PC22Q4r0BbuG",
        "colab": {
          "base_uri": "https://localhost:8080/"
        },
        "outputId": "958e2d23-fd3c-452e-f1bd-89ccf76004b5"
      },
      "execution_count": 42,
      "outputs": [
        {
          "output_type": "stream",
          "name": "stderr",
          "text": [
            "/usr/local/lib/python3.7/dist-packages/ipykernel_launcher.py:24: RuntimeWarning: overflow encountered in exp\n",
            "/usr/local/lib/python3.7/dist-packages/ipykernel_launcher.py:50: RuntimeWarning: overflow encountered in exp\n",
            "/usr/local/lib/python3.7/dist-packages/ipykernel_launcher.py:76: RuntimeWarning: overflow encountered in exp\n"
          ]
        },
        {
          "output_type": "stream",
          "name": "stdout",
          "text": [
            "0th iteration, train accuracy: 0.10653333333333333\n",
            "10th iteration, train accuracy: 0.39593333333333336\n",
            "20th iteration, train accuracy: 0.5206666666666667\n",
            "30th iteration, train accuracy: 0.5855833333333333\n",
            "40th iteration, train accuracy: 0.6284166666666666\n",
            "50th iteration, train accuracy: 0.6576333333333333\n",
            "60th iteration, train accuracy: 0.68125\n",
            "70th iteration, train accuracy: 0.69825\n",
            "80th iteration, train accuracy: 0.7127666666666667\n",
            "90th iteration, train accuracy: 0.7241\n",
            "100th iteration, train accuracy: 0.7336833333333334\n",
            "110th iteration, train accuracy: 0.7419\n",
            "120th iteration, train accuracy: 0.7487666666666667\n",
            "130th iteration, train accuracy: 0.755\n",
            "140th iteration, train accuracy: 0.7599833333333333\n",
            "150th iteration, train accuracy: 0.7653666666666666\n",
            "160th iteration, train accuracy: 0.7696\n",
            "170th iteration, train accuracy: 0.7735833333333333\n",
            "180th iteration, train accuracy: 0.7773666666666667\n",
            "190th iteration, train accuracy: 0.7807\n",
            "200th iteration, train accuracy: 0.7839666666666667\n",
            "210th iteration, train accuracy: 0.7877833333333333\n",
            "220th iteration, train accuracy: 0.7905\n",
            "230th iteration, train accuracy: 0.79325\n",
            "240th iteration, train accuracy: 0.7954166666666667\n",
            "250th iteration, train accuracy: 0.79775\n",
            "260th iteration, train accuracy: 0.7994\n",
            "270th iteration, train accuracy: 0.8013666666666667\n",
            "280th iteration, train accuracy: 0.8032166666666667\n",
            "290th iteration, train accuracy: 0.8045166666666667\n",
            "300th iteration, train accuracy: 0.8062166666666667\n",
            "310th iteration, train accuracy: 0.8078666666666666\n",
            "320th iteration, train accuracy: 0.8094\n",
            "330th iteration, train accuracy: 0.8109333333333333\n",
            "340th iteration, train accuracy: 0.8119833333333333\n",
            "350th iteration, train accuracy: 0.8133833333333333\n",
            "360th iteration, train accuracy: 0.81425\n",
            "370th iteration, train accuracy: 0.8149666666666666\n",
            "380th iteration, train accuracy: 0.81545\n",
            "390th iteration, train accuracy: 0.8164833333333333\n",
            "400th iteration, train accuracy: 0.8175166666666667\n",
            "410th iteration, train accuracy: 0.8185333333333333\n",
            "420th iteration, train accuracy: 0.8194166666666667\n",
            "430th iteration, train accuracy: 0.8198166666666666\n",
            "440th iteration, train accuracy: 0.8206\n",
            "450th iteration, train accuracy: 0.8209333333333333\n",
            "460th iteration, train accuracy: 0.82175\n",
            "470th iteration, train accuracy: 0.8221333333333334\n",
            "480th iteration, train accuracy: 0.8224333333333333\n",
            "490th iteration, train accuracy: 0.8228\n"
          ]
        }
      ]
    },
    {
      "cell_type": "code",
      "source": [
        "x_val = range(int(iter_num / mod))\n",
        "# pyplot.subplot(1, 2, 1)\n",
        "# pyplot.plot(x_val, costs)\n",
        "# pyplot.title(\"Cost\")\n",
        "# pyplot.subplot(1, 2, 2)\n",
        "pyplot.plot(x_val, accuracies)\n",
        "pyplot.title(\"Accuracy\")\n",
        "pyplot.tight_layout()\n",
        "pyplot.show()"
      ],
      "metadata": {
        "id": "QkSArirHBy5f",
        "colab": {
          "base_uri": "https://localhost:8080/",
          "height": 297
        },
        "outputId": "5554b577-1e1d-4d78-abcf-e413e849e9e5"
      },
      "execution_count": 43,
      "outputs": [
        {
          "output_type": "display_data",
          "data": {
            "text/plain": [
              "<Figure size 432x288 with 1 Axes>"
            ],
            "image/png": "[encoded data removed]"
          },
          "metadata": {
            "needs_background": "light"
          }
        }
      ]
    },
    {
      "cell_type": "markdown",
      "source": [
        "## Minibatch - evaluate model"
      ],
      "metadata": {
        "id": "9xFBhEZdB0_b"
      }
    },
    {
      "cell_type": "code",
      "source": [
        "#Train set feedforward\n",
        "Z1 = np.dot(parameters['W1'], norm_flat_train_X.T) + parameters['b1']\n",
        "A1 = np.maximum(Z1, 0) #ReLU\n",
        "Z2 = np.dot(parameters['W2'], A1) + parameters['b2']\n",
        "A2 = np.maximum(Z2, 0) #ReLU\n",
        "Z3 = np.dot(parameters['W3'], A2) + parameters['b3']\n",
        "A3 = 1 / (1 + np.exp(-Z3))\n",
        "predicted_train_Y = np.argmax(A3, axis=0)\n",
        "accuracy = np.sum(predicted_train_Y == train_Y) / num_train\n",
        "print(f\"Train accuracy: {accuracy}\")\n",
        "print(f\"train_Y: {train_Y}\")\n",
        "print(f\"predicted_train_Y: {predicted_train_Y}\")\n",
        "\n",
        "#Dev set feedforward\n",
        "Z1 = np.dot(parameters['W1'], norm_flat_dev_X.T) + parameters['b1']\n",
        "A1 = np.maximum(Z1, 0) #ReLU\n",
        "Z2 = np.dot(parameters['W2'], A1) + parameters['b2']\n",
        "A2 = np.maximum(Z2, 0) #ReLU\n",
        "Z3 = np.dot(parameters['W3'], A2) + parameters['b3']\n",
        "A3 = 1 / (1 + np.exp(-Z3))\n",
        "predicted_dev_Y = np.argmax(A3, axis=0)\n",
        "accuracy = np.sum(predicted_dev_Y == dev_Y) / num_dev\n",
        "print(f\"Dev accuracy: {accuracy}\")\n",
        "print(f\"dev_Y: {dev_Y}\")\n",
        "print(f\"predicted_dev_Y: {predicted_dev_Y}\")"
      ],
      "metadata": {
        "id": "_UzLcaxgB0N3",
        "colab": {
          "base_uri": "https://localhost:8080/"
        },
        "outputId": "f9e0975b-ec3b-4dec-c288-ef50e025f50e"
      },
      "execution_count": 44,
      "outputs": [
        {
          "output_type": "stream",
          "name": "stderr",
          "text": [
            "/usr/local/lib/python3.7/dist-packages/ipykernel_launcher.py:7: RuntimeWarning: overflow encountered in exp\n",
            "  import sys\n"
          ]
        },
        {
          "output_type": "stream",
          "name": "stdout",
          "text": [
            "Train accuracy: 0.82285\n",
            "train_Y: [5 0 4 ... 5 6 8]\n",
            "predicted_train_Y: [5 0 4 ... 5 6 8]\n",
            "Dev accuracy: 0.8276\n",
            "dev_Y: [7 2 1 ... 4 5 6]\n",
            "predicted_dev_Y: [7 2 1 ... 4 5 6]\n"
          ]
        },
        {
          "output_type": "stream",
          "name": "stderr",
          "text": [
            "/usr/local/lib/python3.7/dist-packages/ipykernel_launcher.py:20: RuntimeWarning: overflow encountered in exp\n"
          ]
        }
      ]
    },
    {
      "cell_type": "markdown",
      "source": [
        "## Inference"
      ],
      "metadata": {
        "id": "JhaaxOsYDjVi"
      }
    },
    {
      "cell_type": "code",
      "source": [
        "#Pick a sample randomly\n",
        "s = int(np.random.randint(0, num_dev - 1, 1))\n",
        "\n",
        "#Visualize sample\n",
        "print(f\"Inferring the {s}th sample.\")\n",
        "pyplot.imshow(dev_X[s], cmap=pyplot.get_cmap('gray'))\n",
        "pyplot.show()\n",
        "\n",
        "#Feedforward\n",
        "sample_X = norm_flat_dev_X[s].reshape((norm_flat_dev_X.shape[-1], 1))\n",
        "Z1 = np.dot(parameters['W1'], sample_X) + parameters['b1']\n",
        "A1 = np.maximum(Z1, 0) #ReLU\n",
        "Z2 = np.dot(parameters['W2'], A1) + parameters['b2']\n",
        "A2 = np.maximum(Z2, 0) #ReLU\n",
        "Z3 = np.dot(parameters['W3'], A2) + parameters['b3']\n",
        "A3 = 1 / (1 + np.exp(-Z3))\n",
        "predicted_dev_Y = np.squeeze(np.argmax(A3, axis=0))\n",
        "\n",
        "#Print result\n",
        "match = predicted_dev_Y == dev_Y[s]\n",
        "print(f\"Actual output: {dev_Y[s]}\")\n",
        "print(f\"Predicted output: {predicted_dev_Y}\")\n",
        "\n",
        "if match:\n",
        "  print(\"Match! :)\")\n",
        "else:\n",
        "  print(\"Mismatch :(\")"
      ],
      "metadata": {
        "colab": {
          "base_uri": "https://localhost:8080/",
          "height": 336
        },
        "id": "Xab3nApJDk75",
        "outputId": "7f48dfd6-4050-4eea-dec0-4db278ff35db"
      },
      "execution_count": 57,
      "outputs": [
        {
          "output_type": "stream",
          "name": "stdout",
          "text": [
            "Inferring the 1341th sample.\n"
          ]
        },
        {
          "output_type": "display_data",
          "data": {
            "text/plain": [
              "<Figure size 432x288 with 1 Axes>"
            ],
            "image/png": "[encoded data removed]"
          },
          "metadata": {
            "needs_background": "light"
          }
        },
        {
          "output_type": "stream",
          "name": "stdout",
          "text": [
            "Actual output: 2\n",
            "Predicted output: 2\n",
            "Match! :)\n"
          ]
        }
      ]
    }
  ]
}
